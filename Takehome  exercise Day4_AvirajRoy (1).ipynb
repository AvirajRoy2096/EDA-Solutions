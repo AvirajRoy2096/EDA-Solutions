{
 "cells": [
  {
   "cell_type": "markdown",
   "metadata": {},
   "source": [
    "## Case Study 1(Cervical Cancer Risk Classification)    \n",
    "    \n",
    "   \n",
    "    Age\n",
    "    Number of sexual partners\n",
    "    First sexual intercourse\n",
    "    Num of pregnancies\n",
    "    Smokes\n",
    "    Smokes (years)\n",
    "    Smokes (packs/year)\n",
    "    Hormonal Contraceptives\n",
    "    Hormonal Contraceptives (years)\n",
    "    IUD\n",
    "    IUD (years)\n",
    "    STDs\n",
    "    STDs (number)\n",
    "    STDs:condylomatosis\n",
    "    STDs:cervical condylomatosis\n",
    "    STDs:vaginal condylomatosis\n",
    "    STDs:vulvo-perineal condylomatosis\n",
    "    STDs:syphilis\n",
    "    STDs:pelvic inflammatory disease\n",
    "    STDs:genital herpes\n",
    "    STDs:molluscum contagiosum\n",
    "    STDs:AIDS\n",
    "    STDs:HIV\n",
    "    STDs:Hepatitis B\n",
    "    STDs:HPV\n",
    "    STDs: Number of diagnosis\n",
    "    STDs: Time since first diagnosis\n",
    "    STDs: Time since last diagnosis\n",
    "    Dx:Cancer\n",
    "    Dx:CIN\n",
    "    Dx:HPV\n",
    "    Dx\n",
    "    Hinselmann\n",
    "    Schiller\n",
    "    Citology\n",
    "    Biopsy"
   ]
  },
  {
   "cell_type": "markdown",
   "metadata": {
    "colab_type": "text",
    "id": "mwxBZ0MqOH6A"
   },
   "source": [
    "### 1.1 import some necessary librairies"
   ]
  },
  {
   "cell_type": "code",
   "execution_count": 2,
   "metadata": {},
   "outputs": [],
   "source": [
    "import pandas as pd \n",
    "import numpy as np\n",
    "from pandas import Series,DataFrame\n",
    "import seaborn as sns\n",
    "import matplotlib.pyplot as plt\n"
   ]
  },
  {
   "cell_type": "markdown",
   "metadata": {
    "colab_type": "text",
    "id": "Ypt-ibyqOXWX"
   },
   "source": [
    "### 1.2 import and put the train and test datasets in  pandas dataframe"
   ]
  },
  {
   "cell_type": "code",
   "execution_count": 3,
   "metadata": {},
   "outputs": [
    {
     "data": {
      "text/html": [
       "<div>\n",
       "<style scoped>\n",
       "    .dataframe tbody tr th:only-of-type {\n",
       "        vertical-align: middle;\n",
       "    }\n",
       "\n",
       "    .dataframe tbody tr th {\n",
       "        vertical-align: top;\n",
       "    }\n",
       "\n",
       "    .dataframe thead th {\n",
       "        text-align: right;\n",
       "    }\n",
       "</style>\n",
       "<table border=\"1\" class=\"dataframe\">\n",
       "  <thead>\n",
       "    <tr style=\"text-align: right;\">\n",
       "      <th></th>\n",
       "      <th>Age</th>\n",
       "      <th>Number of sexual partners</th>\n",
       "      <th>First sexual intercourse</th>\n",
       "      <th>Num of pregnancies</th>\n",
       "      <th>Smokes</th>\n",
       "      <th>Smokes (years)</th>\n",
       "      <th>Smokes (packs/year)</th>\n",
       "      <th>Hormonal Contraceptives</th>\n",
       "      <th>Hormonal Contraceptives (years)</th>\n",
       "      <th>IUD</th>\n",
       "      <th>...</th>\n",
       "      <th>STDs: Time since first diagnosis</th>\n",
       "      <th>STDs: Time since last diagnosis</th>\n",
       "      <th>Dx:Cancer</th>\n",
       "      <th>Dx:CIN</th>\n",
       "      <th>Dx:HPV</th>\n",
       "      <th>Dx</th>\n",
       "      <th>Hinselmann</th>\n",
       "      <th>Schiller</th>\n",
       "      <th>Citology</th>\n",
       "      <th>Biopsy</th>\n",
       "    </tr>\n",
       "  </thead>\n",
       "  <tbody>\n",
       "    <tr>\n",
       "      <td>0</td>\n",
       "      <td>18</td>\n",
       "      <td>4.0</td>\n",
       "      <td>15.0</td>\n",
       "      <td>1.0</td>\n",
       "      <td>0.0</td>\n",
       "      <td>0.0</td>\n",
       "      <td>0.0</td>\n",
       "      <td>0.0</td>\n",
       "      <td>0.0</td>\n",
       "      <td>0.0</td>\n",
       "      <td>...</td>\n",
       "      <td>?</td>\n",
       "      <td>?</td>\n",
       "      <td>0</td>\n",
       "      <td>0</td>\n",
       "      <td>0</td>\n",
       "      <td>0</td>\n",
       "      <td>0</td>\n",
       "      <td>0</td>\n",
       "      <td>0</td>\n",
       "      <td>0</td>\n",
       "    </tr>\n",
       "    <tr>\n",
       "      <td>1</td>\n",
       "      <td>15</td>\n",
       "      <td>1.0</td>\n",
       "      <td>14.0</td>\n",
       "      <td>1.0</td>\n",
       "      <td>0.0</td>\n",
       "      <td>0.0</td>\n",
       "      <td>0.0</td>\n",
       "      <td>0.0</td>\n",
       "      <td>0.0</td>\n",
       "      <td>0.0</td>\n",
       "      <td>...</td>\n",
       "      <td>?</td>\n",
       "      <td>?</td>\n",
       "      <td>0</td>\n",
       "      <td>0</td>\n",
       "      <td>0</td>\n",
       "      <td>0</td>\n",
       "      <td>0</td>\n",
       "      <td>0</td>\n",
       "      <td>0</td>\n",
       "      <td>0</td>\n",
       "    </tr>\n",
       "    <tr>\n",
       "      <td>2</td>\n",
       "      <td>34</td>\n",
       "      <td>1.0</td>\n",
       "      <td>?</td>\n",
       "      <td>1.0</td>\n",
       "      <td>0.0</td>\n",
       "      <td>0.0</td>\n",
       "      <td>0.0</td>\n",
       "      <td>0.0</td>\n",
       "      <td>0.0</td>\n",
       "      <td>0.0</td>\n",
       "      <td>...</td>\n",
       "      <td>?</td>\n",
       "      <td>?</td>\n",
       "      <td>0</td>\n",
       "      <td>0</td>\n",
       "      <td>0</td>\n",
       "      <td>0</td>\n",
       "      <td>0</td>\n",
       "      <td>0</td>\n",
       "      <td>0</td>\n",
       "      <td>0</td>\n",
       "    </tr>\n",
       "    <tr>\n",
       "      <td>3</td>\n",
       "      <td>52</td>\n",
       "      <td>5.0</td>\n",
       "      <td>16.0</td>\n",
       "      <td>4.0</td>\n",
       "      <td>1.0</td>\n",
       "      <td>37.0</td>\n",
       "      <td>37.0</td>\n",
       "      <td>1.0</td>\n",
       "      <td>3.0</td>\n",
       "      <td>0.0</td>\n",
       "      <td>...</td>\n",
       "      <td>?</td>\n",
       "      <td>?</td>\n",
       "      <td>1</td>\n",
       "      <td>0</td>\n",
       "      <td>1</td>\n",
       "      <td>0</td>\n",
       "      <td>0</td>\n",
       "      <td>0</td>\n",
       "      <td>0</td>\n",
       "      <td>0</td>\n",
       "    </tr>\n",
       "    <tr>\n",
       "      <td>4</td>\n",
       "      <td>46</td>\n",
       "      <td>3.0</td>\n",
       "      <td>21.0</td>\n",
       "      <td>4.0</td>\n",
       "      <td>0.0</td>\n",
       "      <td>0.0</td>\n",
       "      <td>0.0</td>\n",
       "      <td>1.0</td>\n",
       "      <td>15.0</td>\n",
       "      <td>0.0</td>\n",
       "      <td>...</td>\n",
       "      <td>?</td>\n",
       "      <td>?</td>\n",
       "      <td>0</td>\n",
       "      <td>0</td>\n",
       "      <td>0</td>\n",
       "      <td>0</td>\n",
       "      <td>0</td>\n",
       "      <td>0</td>\n",
       "      <td>0</td>\n",
       "      <td>0</td>\n",
       "    </tr>\n",
       "  </tbody>\n",
       "</table>\n",
       "<p>5 rows × 36 columns</p>\n",
       "</div>"
      ],
      "text/plain": [
       "   Age Number of sexual partners First sexual intercourse Num of pregnancies  \\\n",
       "0   18                       4.0                     15.0                1.0   \n",
       "1   15                       1.0                     14.0                1.0   \n",
       "2   34                       1.0                        ?                1.0   \n",
       "3   52                       5.0                     16.0                4.0   \n",
       "4   46                       3.0                     21.0                4.0   \n",
       "\n",
       "  Smokes Smokes (years) Smokes (packs/year) Hormonal Contraceptives  \\\n",
       "0    0.0            0.0                 0.0                     0.0   \n",
       "1    0.0            0.0                 0.0                     0.0   \n",
       "2    0.0            0.0                 0.0                     0.0   \n",
       "3    1.0           37.0                37.0                     1.0   \n",
       "4    0.0            0.0                 0.0                     1.0   \n",
       "\n",
       "  Hormonal Contraceptives (years)  IUD  ... STDs: Time since first diagnosis  \\\n",
       "0                             0.0  0.0  ...                                ?   \n",
       "1                             0.0  0.0  ...                                ?   \n",
       "2                             0.0  0.0  ...                                ?   \n",
       "3                             3.0  0.0  ...                                ?   \n",
       "4                            15.0  0.0  ...                                ?   \n",
       "\n",
       "  STDs: Time since last diagnosis Dx:Cancer Dx:CIN Dx:HPV Dx Hinselmann  \\\n",
       "0                               ?         0      0      0  0          0   \n",
       "1                               ?         0      0      0  0          0   \n",
       "2                               ?         0      0      0  0          0   \n",
       "3                               ?         1      0      1  0          0   \n",
       "4                               ?         0      0      0  0          0   \n",
       "\n",
       "  Schiller Citology Biopsy  \n",
       "0        0        0      0  \n",
       "1        0        0      0  \n",
       "2        0        0      0  \n",
       "3        0        0      0  \n",
       "4        0        0      0  \n",
       "\n",
       "[5 rows x 36 columns]"
      ]
     },
     "execution_count": 3,
     "metadata": {},
     "output_type": "execute_result"
    }
   ],
   "source": [
    "cancer=pd.read_csv('C:\\\\Users\\\\AVIRAJ\\\\Downloads\\\\1.+cervicalcancer-original+dataset.csv')\n",
    "cancer.head()"
   ]
  },
  {
   "cell_type": "markdown",
   "metadata": {},
   "source": [
    "### 1.3 check the data.describe()"
   ]
  },
  {
   "cell_type": "code",
   "execution_count": 3,
   "metadata": {},
   "outputs": [
    {
     "data": {
      "text/html": [
       "<div>\n",
       "<style scoped>\n",
       "    .dataframe tbody tr th:only-of-type {\n",
       "        vertical-align: middle;\n",
       "    }\n",
       "\n",
       "    .dataframe tbody tr th {\n",
       "        vertical-align: top;\n",
       "    }\n",
       "\n",
       "    .dataframe thead th {\n",
       "        text-align: right;\n",
       "    }\n",
       "</style>\n",
       "<table border=\"1\" class=\"dataframe\">\n",
       "  <thead>\n",
       "    <tr style=\"text-align: right;\">\n",
       "      <th></th>\n",
       "      <th>Age</th>\n",
       "      <th>STDs: Number of diagnosis</th>\n",
       "      <th>Dx:Cancer</th>\n",
       "      <th>Dx:CIN</th>\n",
       "      <th>Dx:HPV</th>\n",
       "      <th>Dx</th>\n",
       "      <th>Hinselmann</th>\n",
       "      <th>Schiller</th>\n",
       "      <th>Citology</th>\n",
       "      <th>Biopsy</th>\n",
       "    </tr>\n",
       "  </thead>\n",
       "  <tbody>\n",
       "    <tr>\n",
       "      <td>count</td>\n",
       "      <td>858.000000</td>\n",
       "      <td>858.000000</td>\n",
       "      <td>858.000000</td>\n",
       "      <td>858.000000</td>\n",
       "      <td>858.000000</td>\n",
       "      <td>858.000000</td>\n",
       "      <td>858.000000</td>\n",
       "      <td>858.000000</td>\n",
       "      <td>858.000000</td>\n",
       "      <td>858.000000</td>\n",
       "    </tr>\n",
       "    <tr>\n",
       "      <td>mean</td>\n",
       "      <td>26.820513</td>\n",
       "      <td>0.087413</td>\n",
       "      <td>0.020979</td>\n",
       "      <td>0.010490</td>\n",
       "      <td>0.020979</td>\n",
       "      <td>0.027972</td>\n",
       "      <td>0.040793</td>\n",
       "      <td>0.086247</td>\n",
       "      <td>0.051282</td>\n",
       "      <td>0.064103</td>\n",
       "    </tr>\n",
       "    <tr>\n",
       "      <td>std</td>\n",
       "      <td>8.497948</td>\n",
       "      <td>0.302545</td>\n",
       "      <td>0.143398</td>\n",
       "      <td>0.101939</td>\n",
       "      <td>0.143398</td>\n",
       "      <td>0.164989</td>\n",
       "      <td>0.197925</td>\n",
       "      <td>0.280892</td>\n",
       "      <td>0.220701</td>\n",
       "      <td>0.245078</td>\n",
       "    </tr>\n",
       "    <tr>\n",
       "      <td>min</td>\n",
       "      <td>13.000000</td>\n",
       "      <td>0.000000</td>\n",
       "      <td>0.000000</td>\n",
       "      <td>0.000000</td>\n",
       "      <td>0.000000</td>\n",
       "      <td>0.000000</td>\n",
       "      <td>0.000000</td>\n",
       "      <td>0.000000</td>\n",
       "      <td>0.000000</td>\n",
       "      <td>0.000000</td>\n",
       "    </tr>\n",
       "    <tr>\n",
       "      <td>25%</td>\n",
       "      <td>20.000000</td>\n",
       "      <td>0.000000</td>\n",
       "      <td>0.000000</td>\n",
       "      <td>0.000000</td>\n",
       "      <td>0.000000</td>\n",
       "      <td>0.000000</td>\n",
       "      <td>0.000000</td>\n",
       "      <td>0.000000</td>\n",
       "      <td>0.000000</td>\n",
       "      <td>0.000000</td>\n",
       "    </tr>\n",
       "    <tr>\n",
       "      <td>50%</td>\n",
       "      <td>25.000000</td>\n",
       "      <td>0.000000</td>\n",
       "      <td>0.000000</td>\n",
       "      <td>0.000000</td>\n",
       "      <td>0.000000</td>\n",
       "      <td>0.000000</td>\n",
       "      <td>0.000000</td>\n",
       "      <td>0.000000</td>\n",
       "      <td>0.000000</td>\n",
       "      <td>0.000000</td>\n",
       "    </tr>\n",
       "    <tr>\n",
       "      <td>75%</td>\n",
       "      <td>32.000000</td>\n",
       "      <td>0.000000</td>\n",
       "      <td>0.000000</td>\n",
       "      <td>0.000000</td>\n",
       "      <td>0.000000</td>\n",
       "      <td>0.000000</td>\n",
       "      <td>0.000000</td>\n",
       "      <td>0.000000</td>\n",
       "      <td>0.000000</td>\n",
       "      <td>0.000000</td>\n",
       "    </tr>\n",
       "    <tr>\n",
       "      <td>max</td>\n",
       "      <td>84.000000</td>\n",
       "      <td>3.000000</td>\n",
       "      <td>1.000000</td>\n",
       "      <td>1.000000</td>\n",
       "      <td>1.000000</td>\n",
       "      <td>1.000000</td>\n",
       "      <td>1.000000</td>\n",
       "      <td>1.000000</td>\n",
       "      <td>1.000000</td>\n",
       "      <td>1.000000</td>\n",
       "    </tr>\n",
       "  </tbody>\n",
       "</table>\n",
       "</div>"
      ],
      "text/plain": [
       "              Age  STDs: Number of diagnosis   Dx:Cancer      Dx:CIN  \\\n",
       "count  858.000000                 858.000000  858.000000  858.000000   \n",
       "mean    26.820513                   0.087413    0.020979    0.010490   \n",
       "std      8.497948                   0.302545    0.143398    0.101939   \n",
       "min     13.000000                   0.000000    0.000000    0.000000   \n",
       "25%     20.000000                   0.000000    0.000000    0.000000   \n",
       "50%     25.000000                   0.000000    0.000000    0.000000   \n",
       "75%     32.000000                   0.000000    0.000000    0.000000   \n",
       "max     84.000000                   3.000000    1.000000    1.000000   \n",
       "\n",
       "           Dx:HPV          Dx  Hinselmann    Schiller    Citology      Biopsy  \n",
       "count  858.000000  858.000000  858.000000  858.000000  858.000000  858.000000  \n",
       "mean     0.020979    0.027972    0.040793    0.086247    0.051282    0.064103  \n",
       "std      0.143398    0.164989    0.197925    0.280892    0.220701    0.245078  \n",
       "min      0.000000    0.000000    0.000000    0.000000    0.000000    0.000000  \n",
       "25%      0.000000    0.000000    0.000000    0.000000    0.000000    0.000000  \n",
       "50%      0.000000    0.000000    0.000000    0.000000    0.000000    0.000000  \n",
       "75%      0.000000    0.000000    0.000000    0.000000    0.000000    0.000000  \n",
       "max      1.000000    1.000000    1.000000    1.000000    1.000000    1.000000  "
      ]
     },
     "execution_count": 3,
     "metadata": {},
     "output_type": "execute_result"
    }
   ],
   "source": [
    "cancer.describe()"
   ]
  },
  {
   "cell_type": "markdown",
   "metadata": {},
   "source": [
    "### 1.4 Replacing ;?' with null values in each column?\n"
   ]
  },
  {
   "cell_type": "code",
   "execution_count": 6,
   "metadata": {},
   "outputs": [],
   "source": [
    "cancer.replace({'?':np.nan},inplace=True)\n"
   ]
  },
  {
   "cell_type": "code",
   "execution_count": null,
   "metadata": {},
   "outputs": [],
   "source": []
  },
  {
   "cell_type": "markdown",
   "metadata": {},
   "source": [
    "### 1.5 Check count of 0 means not cancer affected and 1 means cancer affected cell\n"
   ]
  },
  {
   "cell_type": "code",
   "execution_count": 10,
   "metadata": {},
   "outputs": [
    {
     "data": {
      "text/plain": [
       "0    840\n",
       "1     18\n",
       "Name: Dx:Cancer, dtype: int64"
      ]
     },
     "execution_count": 10,
     "metadata": {},
     "output_type": "execute_result"
    }
   ],
   "source": [
    "cancer['Dx:Cancer'].value_counts()\n"
   ]
  },
  {
   "cell_type": "markdown",
   "metadata": {},
   "source": [
    "observation:\n",
    "   \n"
   ]
  },
  {
   "cell_type": "code",
   "execution_count": null,
   "metadata": {},
   "outputs": [],
   "source": [
    "We can observe that most people are not cancer affected.A low percentage of people(around 2.1%) are only affected by Cancer"
   ]
  },
  {
   "cell_type": "markdown",
   "metadata": {
    "colab_type": "text",
    "id": "IW6pRz0A8p0t"
   },
   "source": [
    "### 1.6 Check Correlation Plot. And your observations?"
   ]
  },
  {
   "cell_type": "code",
   "execution_count": 14,
   "metadata": {
    "colab": {
     "base_uri": "https://localhost:8080/",
     "height": 653
    },
    "colab_type": "code",
    "id": "dOHHlCYD82ei",
    "outputId": "35c1963e-1638-4dfc-a12a-d3582fdbf1e7",
    "scrolled": true
   },
   "outputs": [
    {
     "data": {
      "image/png": "[encoded data removed]",
      "text/plain": [
       "<Figure size 288x288 with 2 Axes>"
      ]
     },
     "metadata": {
      "needs_background": "light"
     },
     "output_type": "display_data"
    }
   ],
   "source": [
    "# correlation plot\n",
    "plt.subplots(figsize=(4,4))\n",
    "sns.heatmap(cancer.corr())\n",
    "plt.show()"
   ]
  },
  {
   "cell_type": "markdown",
   "metadata": {},
   "source": [
    "#### observation:\n",
    "    "
   ]
  },
  {
   "cell_type": "code",
   "execution_count": null,
   "metadata": {},
   "outputs": [],
   "source": [
    "We can observe that Cancer is not correlated with most factors.\n",
    "It is only correlated with Dx & Dx:HPV .\n",
    "Also we observe that Hinselmann,Schiller,Citology & Biopsy are not affecting cancer."
   ]
  },
  {
   "cell_type": "markdown",
   "metadata": {},
   "source": [
    "### 1.6a) list the heatmap of top correlation\n"
   ]
  },
  {
   "cell_type": "code",
   "execution_count": 33,
   "metadata": {
    "colab": {
     "base_uri": "https://localhost:8080/",
     "height": 780
    },
    "colab_type": "code",
    "id": "-Kt6vShDNH-y",
    "outputId": "1394ff8c-9ae4-4850-c5bc-5449b51af957",
    "scrolled": true
   },
   "outputs": [
    {
     "data": {
      "image/png": "[encoded data removed]",
      "text/plain": [
       "<Figure size 432x288 with 2 Axes>"
      ]
     },
     "metadata": {
      "needs_background": "light"
     },
     "output_type": "display_data"
    }
   ],
   "source": [
    "# list the heatmap of top correlation\n",
    "\n",
    "corr=cancer.corr()\n",
    "top_corr=corr[(abs(corr)>0.5)&(abs(corr)<1)]\n",
    "sns.heatmap(top_corr.corr())\n",
    "plt.show()\n",
    "\n"
   ]
  },
  {
   "cell_type": "code",
   "execution_count": 34,
   "metadata": {},
   "outputs": [
    {
     "data": {
      "text/plain": [
       "['Age',\n",
       " 'STDs: Number of diagnosis',\n",
       " 'Dx:Cancer',\n",
       " 'Dx:CIN',\n",
       " 'Dx:HPV',\n",
       " 'Dx',\n",
       " 'Hinselmann',\n",
       " 'Schiller',\n",
       " 'Citology',\n",
       " 'Biopsy']"
      ]
     },
     "execution_count": 34,
     "metadata": {},
     "output_type": "execute_result"
    }
   ],
   "source": [
    "# number of variables for heatmap\n",
    "\n",
    "[i for i in top_corr]"
   ]
  },
  {
   "cell_type": "markdown",
   "metadata": {},
   "source": [
    "#### observation:\n",
    "    "
   ]
  },
  {
   "cell_type": "code",
   "execution_count": null,
   "metadata": {},
   "outputs": [],
   "source": [
    "We can see that the above variables present are having highest correlation in the dataset.\\\n",
    "Hence they can be used more for our machine learning model."
   ]
  },
  {
   "cell_type": "markdown",
   "metadata": {},
   "source": [
    "### 1.7 Imputing the missing values from the given dataset?"
   ]
  },
  {
   "cell_type": "code",
   "execution_count": 12,
   "metadata": {
    "colab": {
     "base_uri": "https://localhost:8080/",
     "height": 36
    },
    "colab_type": "code",
    "id": "Lx6bKJbf92cM",
    "outputId": "bb8aa747-fa0b-45cb-da77-869284ff0666"
   },
   "outputs": [],
   "source": [
    "# we will impute the categorical variables with 0 or 1 and continuous variables with median value\n",
    "from sklearn.preprocessing import LabelEncoder\n",
    "le=LabelEncoder()\n",
    "\n",
    "\n"
   ]
  },
  {
   "cell_type": "code",
   "execution_count": 13,
   "metadata": {},
   "outputs": [
    {
     "data": {
      "text/plain": [
       "Age                                   0\n",
       "Number of sexual partners             0\n",
       "First sexual intercourse              0\n",
       "Num of pregnancies                    0\n",
       "Smokes                                0\n",
       "Smokes (years)                        0\n",
       "Smokes (packs/year)                   0\n",
       "Hormonal Contraceptives               0\n",
       "Hormonal Contraceptives (years)       0\n",
       "IUD                                   0\n",
       "IUD (years)                           0\n",
       "STDs                                  0\n",
       "STDs (number)                         0\n",
       "STDs:condylomatosis                   0\n",
       "STDs:cervical condylomatosis          0\n",
       "STDs:vaginal condylomatosis           0\n",
       "STDs:vulvo-perineal condylomatosis    0\n",
       "STDs:syphilis                         0\n",
       "STDs:pelvic inflammatory disease      0\n",
       "STDs:genital herpes                   0\n",
       "STDs:molluscum contagiosum            0\n",
       "STDs:AIDS                             0\n",
       "STDs:HIV                              0\n",
       "STDs:Hepatitis B                      0\n",
       "STDs:HPV                              0\n",
       "STDs: Number of diagnosis             0\n",
       "STDs: Time since first diagnosis      0\n",
       "STDs: Time since last diagnosis       0\n",
       "Dx:Cancer                             0\n",
       "Dx:CIN                                0\n",
       "Dx:HPV                                0\n",
       "Dx                                    0\n",
       "Hinselmann                            0\n",
       "Schiller                              0\n",
       "Citology                              0\n",
       "Biopsy                                0\n",
       "dtype: int64"
      ]
     },
     "execution_count": 13,
     "metadata": {},
     "output_type": "execute_result"
    }
   ],
   "source": [
    "cancer.isnull().sum()"
   ]
  },
  {
   "cell_type": "code",
   "execution_count": 23,
   "metadata": {
    "colab": {
     "base_uri": "https://localhost:8080/",
     "height": 36
    },
    "colab_type": "code",
    "id": "W1W95Qq8Gy3_",
    "outputId": "aea72a29-d6dc-4897-f41e-2c05c0d213c7"
   },
   "outputs": [],
   "source": [
    "# Imputing the missing values from First sexual intercourse\n",
    "cancer['First sexual intercourse']=cancer['First sexual intercourse'].replace({'?':np.nan})\n"
   ]
  },
  {
   "cell_type": "code",
   "execution_count": 26,
   "metadata": {},
   "outputs": [],
   "source": [
    "cancer['First sexual intercourse']=cancer['First sexual intercourse'].fillna(cancer['First sexual intercourse'].median())\n"
   ]
  },
  {
   "cell_type": "code",
   "execution_count": 35,
   "metadata": {
    "colab": {
     "base_uri": "https://localhost:8080/",
     "height": 36
    },
    "colab_type": "code",
    "id": "ps9j9lvrIt8X",
    "outputId": "00e40813-6fb1-4425-cf1d-a229f00a2e89"
   },
   "outputs": [],
   "source": [
    "# Imputing the missing values from Num of pregnancies\n",
    "cancer['Num of pregnancies']=cancer['Num of pregnancies'].replace({'?':np.nan})\n"
   ]
  },
  {
   "cell_type": "code",
   "execution_count": 37,
   "metadata": {},
   "outputs": [],
   "source": [
    "cancer['Num of pregnancies']=cancer['Num of pregnancies'].fillna(cancer['Num of pregnancies'].median())\n"
   ]
  },
  {
   "cell_type": "code",
   "execution_count": 41,
   "metadata": {
    "colab": {
     "base_uri": "https://localhost:8080/",
     "height": 36
    },
    "colab_type": "code",
    "id": "coSfHzp-JAeY",
    "outputId": "baafdd81-1d51-49e4-83eb-f90f65a902e1"
   },
   "outputs": [],
   "source": [
    "# Imputing the missing values from Smokes\n",
    "cancer['Smokes']=cancer['Smokes'].replace({'?':np.nan})\n"
   ]
  },
  {
   "cell_type": "code",
   "execution_count": 45,
   "metadata": {},
   "outputs": [],
   "source": [
    "cancer['Smokes']=cancer['Smokes'].fillna(cancer['Smokes'].median())"
   ]
  },
  {
   "cell_type": "code",
   "execution_count": 50,
   "metadata": {
    "colab": {
     "base_uri": "https://localhost:8080/",
     "height": 36
    },
    "colab_type": "code",
    "id": "uS5muTzuJV09",
    "outputId": "cdd9c805-41ac-41c2-aa79-69bc01d9f021"
   },
   "outputs": [],
   "source": [
    "# Imputing the missing values from Smokes (years)\n",
    "cancer['Smokes (years)']=cancer['Smokes (years)'].replace({'?':np.nan})\n"
   ]
  },
  {
   "cell_type": "code",
   "execution_count": 51,
   "metadata": {},
   "outputs": [],
   "source": [
    "cancer['Smokes (years)']=cancer['Smokes (years)'].fillna(cancer['Smokes (years)'].median())"
   ]
  },
  {
   "cell_type": "code",
   "execution_count": 52,
   "metadata": {
    "colab": {
     "base_uri": "https://localhost:8080/",
     "height": 36
    },
    "colab_type": "code",
    "id": "i_5I_XXAJrRu",
    "outputId": "1e1c62f8-ea2d-403b-8e23-0181cc2febf9"
   },
   "outputs": [],
   "source": [
    "# Imputing the missing values from Smokes (packs/year)\n",
    "\n",
    "cancer['Smokes (packs/year)']=cancer['Smokes (packs/year)'].replace({'?':np.nan})"
   ]
  },
  {
   "cell_type": "code",
   "execution_count": 53,
   "metadata": {},
   "outputs": [],
   "source": [
    "cancer['Smokes (packs/year)']=cancer['Smokes (packs/year)'].fillna(cancer['Smokes (packs/year)'].median())"
   ]
  },
  {
   "cell_type": "code",
   "execution_count": 55,
   "metadata": {
    "colab": {
     "base_uri": "https://localhost:8080/",
     "height": 36
    },
    "colab_type": "code",
    "id": "uGSV8fHeKAg7",
    "outputId": "9d15c5a4-379e-4a41-b510-62fd2615008c"
   },
   "outputs": [],
   "source": [
    "# Imputing the missing values from Hormonal Contraceptives\n",
    "cancer['Hormonal Contraceptives']=cancer['Hormonal Contraceptives'].replace({'?':np.nan})\n"
   ]
  },
  {
   "cell_type": "code",
   "execution_count": 56,
   "metadata": {},
   "outputs": [],
   "source": [
    "cancer['Hormonal Contraceptives']=cancer['Hormonal Contraceptives'].fillna(cancer['Hormonal Contraceptives'].median())"
   ]
  },
  {
   "cell_type": "code",
   "execution_count": 57,
   "metadata": {
    "colab": {
     "base_uri": "https://localhost:8080/",
     "height": 36
    },
    "colab_type": "code",
    "id": "cH_ayTrCKl1U",
    "outputId": "cfbdc514-8d41-4ae8-b4d9-149020e8dcd5"
   },
   "outputs": [],
   "source": [
    "# Imputing the missing values from Hormonal Contraceptives (years)\n",
    "cancer['Hormonal Contraceptives (years)']=cancer['Hormonal Contraceptives (years)'].replace({'?':np.nan})\n"
   ]
  },
  {
   "cell_type": "code",
   "execution_count": 58,
   "metadata": {},
   "outputs": [],
   "source": [
    "cancer['Hormonal Contraceptives (years)']=cancer['Hormonal Contraceptives (years)'].fillna(cancer['Hormonal Contraceptives (years)'].median())"
   ]
  },
  {
   "cell_type": "code",
   "execution_count": 62,
   "metadata": {
    "colab": {
     "base_uri": "https://localhost:8080/",
     "height": 36
    },
    "colab_type": "code",
    "id": "PU-i5dpiLsC6",
    "outputId": "3b9a596d-b8db-46b8-f858-83ee0ce182e1"
   },
   "outputs": [],
   "source": [
    "# Imputing the missing values from IUD\n",
    "cancer['IUD']=cancer['IUD'].replace({'?':np.nan})\n",
    "cancer['IUD']=cancer['IUD'].fillna(cancer['IUD'].median())\n"
   ]
  },
  {
   "cell_type": "code",
   "execution_count": 65,
   "metadata": {
    "colab": {
     "base_uri": "https://localhost:8080/",
     "height": 36
    },
    "colab_type": "code",
    "id": "avn6NVpRMM80",
    "outputId": "4358eb26-e604-4b24-9641-c0a4b2ac22e7"
   },
   "outputs": [],
   "source": [
    "# Imputing the missing values from IUD (years)\n",
    "# Imputing the missing values from IUD\n",
    "cancer['IUD (years)']=cancer['IUD (years)'].replace({'?':np.nan})\n",
    "cancer['IUD (years)']=cancer['IUD (years)'].fillna(cancer['IUD (years)'].median())\n",
    "\n"
   ]
  },
  {
   "cell_type": "code",
   "execution_count": 67,
   "metadata": {
    "colab": {
     "base_uri": "https://localhost:8080/",
     "height": 36
    },
    "colab_type": "code",
    "id": "CrCUMMDuM_Fw",
    "outputId": "4463563c-3057-477d-f0f2-94a4ab61e6c3"
   },
   "outputs": [],
   "source": [
    "# Imputing the missing values from STDs\n",
    "cancer['STDs']=cancer['STDs'].replace({'?':np.nan})\n",
    "cancer['STDs']=cancer['STDs'].fillna(cancer['STDs'].median())\n",
    "\n"
   ]
  },
  {
   "cell_type": "code",
   "execution_count": 70,
   "metadata": {
    "colab": {
     "base_uri": "https://localhost:8080/",
     "height": 36
    },
    "colab_type": "code",
    "id": "UCWtZJVRNShk",
    "outputId": "beeedea6-0087-41ec-b493-8488562a992b"
   },
   "outputs": [],
   "source": [
    "# Imputing the missing values from STDs (number)\n",
    "cancer['STDs (number)']=cancer['STDs (number)'].replace({'?':np.nan})\n",
    "cancer['STDs (number)']=cancer['STDs (number)'].fillna(cancer['STDs (number)'].median())\n",
    "\n"
   ]
  },
  {
   "cell_type": "code",
   "execution_count": 73,
   "metadata": {
    "colab": {
     "base_uri": "https://localhost:8080/",
     "height": 36
    },
    "colab_type": "code",
    "id": "dPBhs9gENzF8",
    "outputId": "c2b341ac-d05b-408e-cc59-5aa3928ef279"
   },
   "outputs": [],
   "source": [
    "# Imputing the missing values from STDs:condylomatosis\n",
    "cancer['STDs:condylomatosis']=cancer['STDs:condylomatosis'].replace({'?':np.nan})\n",
    "cancer['STDs:condylomatosis']=cancer['STDs:condylomatosis'].fillna(cancer['STDs:condylomatosis'].median())\n",
    "\n",
    "\n"
   ]
  },
  {
   "cell_type": "code",
   "execution_count": 74,
   "metadata": {
    "colab": {
     "base_uri": "https://localhost:8080/",
     "height": 36
    },
    "colab_type": "code",
    "id": "MI5vXM88OLG_",
    "outputId": "697c5afb-1a8d-488b-dce0-c48a64c7ab67"
   },
   "outputs": [],
   "source": [
    "# Imputing the missing values from STDs:cervical condylomatosis\n",
    "cancer['STDs:cervical condylomatosis']=cancer['STDs:cervical condylomatosis'].replace({'?':np.nan})\n",
    "cancer['STDs:cervical condylomatosis']=cancer['STDs:cervical condylomatosis'].fillna(cancer['STDs:cervical condylomatosis'].median())\n"
   ]
  },
  {
   "cell_type": "code",
   "execution_count": 76,
   "metadata": {
    "colab": {
     "base_uri": "https://localhost:8080/",
     "height": 36
    },
    "colab_type": "code",
    "id": "UHrPEly5OrEm",
    "outputId": "ece52d69-1a34-441a-ed08-94cebd756d0d"
   },
   "outputs": [],
   "source": [
    "# Imputing the missing values from STDs:vaginal condylomatosis\n",
    "\n",
    "cancer['STDs:vaginal condylomatosis']=cancer['STDs:vaginal condylomatosis'].replace({'?':np.nan})\n",
    "cancer['STDs:vaginal condylomatosis']=cancer['STDs:vaginal condylomatosis'].fillna(cancer['STDs:vaginal condylomatosis'].median())\n",
    "\n"
   ]
  },
  {
   "cell_type": "code",
   "execution_count": 78,
   "metadata": {
    "colab": {
     "base_uri": "https://localhost:8080/",
     "height": 36
    },
    "colab_type": "code",
    "id": "D6YgmMYFPJDs",
    "outputId": "4c75e773-2c62-4eaa-bfec-6f2bdcc34916"
   },
   "outputs": [],
   "source": [
    "# Imputing the missing values from STDs:vulvo-perineal condylomatosis\n",
    "\n",
    "\n",
    "cancer['STDs:vulvo-perineal condylomatosis']=cancer['STDs:vulvo-perineal condylomatosis'].replace({'?':np.nan})\n",
    "cancer['STDs:vulvo-perineal condylomatosis']=cancer['STDs:vulvo-perineal condylomatosis'].fillna(cancer['STDs:vulvo-perineal condylomatosis'].median())\n",
    "\n",
    "\n"
   ]
  },
  {
   "cell_type": "code",
   "execution_count": 81,
   "metadata": {
    "colab": {
     "base_uri": "https://localhost:8080/",
     "height": 36
    },
    "colab_type": "code",
    "id": "lT4D4QfDPl0y",
    "outputId": "bcf0f94e-0b40-4ce2-f1bc-3b7766dfcd0a"
   },
   "outputs": [],
   "source": [
    "# Imputing the missing values from STDs:syphilis\n",
    "\n",
    "\n",
    "\n",
    "cancer['STDs:syphilis']=cancer['STDs:syphilis'].replace({'?':np.nan})\n",
    "cancer['STDs:syphilis']=cancer['STDs:syphilis'].fillna(cancer['STDs:syphilis'].median())\n",
    "\n",
    "\n",
    "\n"
   ]
  },
  {
   "cell_type": "code",
   "execution_count": 87,
   "metadata": {
    "colab": {
     "base_uri": "https://localhost:8080/",
     "height": 36
    },
    "colab_type": "code",
    "id": "YjcYUtopTags",
    "outputId": "82a106f8-082b-4fc0-8dde-e556a23389ce"
   },
   "outputs": [],
   "source": [
    "# Imputing the missing values from STDs:pelvic inflammatory diseases\n",
    "cancer['STDs:pelvic inflammatory disease']=cancer['STDs:pelvic inflammatory disease'].replace({'?':np.nan})\n",
    "cancer['STDs:pelvic inflammatory disease']=cancer['STDs:pelvic inflammatory disease'].fillna(cancer['STDs:pelvic inflammatory disease'].median())\n"
   ]
  },
  {
   "cell_type": "code",
   "execution_count": 88,
   "metadata": {
    "colab": {
     "base_uri": "https://localhost:8080/",
     "height": 36
    },
    "colab_type": "code",
    "id": "IuK9Mki5UQhX",
    "outputId": "1c884dc3-410c-4740-ec61-2fee6b9f9687"
   },
   "outputs": [],
   "source": [
    "# Imputing the missing values from STDs:genital herpes\n",
    "\n",
    "\n",
    "cancer['STDs:genital herpes']=cancer['STDs:genital herpes'].replace({'?':np.nan})\n",
    "cancer['STDs:genital herpes']=cancer['STDs:genital herpes'].fillna(cancer['STDs:genital herpes'].median())\n"
   ]
  },
  {
   "cell_type": "code",
   "execution_count": 89,
   "metadata": {
    "colab": {
     "base_uri": "https://localhost:8080/",
     "height": 36
    },
    "colab_type": "code",
    "id": "K-A6KKPVUwL0",
    "outputId": "cfb6a856-4fc7-4496-a770-98235d4e37e5"
   },
   "outputs": [],
   "source": [
    "# Imputing the missing values from STDs:molluscum contagiosum\n",
    "\n",
    "cancer['STDs:molluscum contagiosum']=cancer['STDs:molluscum contagiosum'].replace({'?':np.nan})\n",
    "cancer['STDs:molluscum contagiosum']=cancer['STDs:molluscum contagiosum'].fillna(cancer['STDs:molluscum contagiosum'].median())\n"
   ]
  },
  {
   "cell_type": "code",
   "execution_count": 90,
   "metadata": {
    "colab": {
     "base_uri": "https://localhost:8080/",
     "height": 36
    },
    "colab_type": "code",
    "id": "mclCNR8bVgAP",
    "outputId": "80bcc1ac-5db0-49d2-c222-bd45890fbe83"
   },
   "outputs": [],
   "source": [
    "# Imputing the missing values from STDs:AIDS\n",
    "\n",
    "\n",
    "cancer['STDs:AIDS']=cancer['STDs:AIDS'].replace({'?':np.nan})\n",
    "cancer['STDs:AIDS']=cancer['STDs:AIDS'].fillna(cancer['STDs:AIDS'].median())\n"
   ]
  },
  {
   "cell_type": "code",
   "execution_count": 91,
   "metadata": {
    "colab": {
     "base_uri": "https://localhost:8080/",
     "height": 36
    },
    "colab_type": "code",
    "id": "EuDCWr5fWYZL",
    "outputId": "14a426be-4029-4247-bd49-513a47e6a9aa"
   },
   "outputs": [],
   "source": [
    "# Imputing the missing values from STDs:HIV\n",
    "\n",
    "cancer['STDs:HIV']=cancer['STDs:HIV'].replace({'?':np.nan})\n",
    "cancer['STDs:HIV']=cancer['STDs:HIV'].fillna(cancer['STDs:HIV'].median())\n"
   ]
  },
  {
   "cell_type": "code",
   "execution_count": 92,
   "metadata": {
    "colab": {
     "base_uri": "https://localhost:8080/",
     "height": 36
    },
    "colab_type": "code",
    "id": "xQ_mzWeOW17D",
    "outputId": "6061d020-8089-4682-9f33-1c70b561e59a"
   },
   "outputs": [],
   "source": [
    "# Imputing the missing values from STDs:Hepatitis B\n",
    "\n",
    "cancer['STDs:Hepatitis B']=cancer['STDs:Hepatitis B'].replace({'?':np.nan})\n",
    "cancer['STDs:Hepatitis B']=cancer['STDs:Hepatitis B'].fillna(cancer['STDs:Hepatitis B'].median())\n"
   ]
  },
  {
   "cell_type": "code",
   "execution_count": 93,
   "metadata": {
    "colab": {
     "base_uri": "https://localhost:8080/",
     "height": 36
    },
    "colab_type": "code",
    "id": "zONJZ9-pXhmj",
    "outputId": "ac6eed8f-6271-4971-abef-99d20b341e52"
   },
   "outputs": [],
   "source": [
    "# Imputing the missing values from STDs:HPV\n",
    "\n",
    "cancer['STDs:HPV']=cancer['STDs:HPV'].replace({'?':np.nan})\n",
    "cancer['STDs:HPV']=cancer['STDs:HPV'].fillna(cancer['STDs:HPV'].median())\n",
    "\n"
   ]
  },
  {
   "cell_type": "code",
   "execution_count": 94,
   "metadata": {
    "colab": {
     "base_uri": "https://localhost:8080/",
     "height": 36
    },
    "colab_type": "code",
    "id": "uApuugCuYLTX",
    "outputId": "2d919c52-e66d-4d15-af26-839152697ff0"
   },
   "outputs": [],
   "source": [
    "# Imputing the missing values from STDs: Time since first diagnosis\n",
    "\n",
    "cancer['STDs: Time since first diagnosis']=cancer['STDs: Time since first diagnosis'].replace({'?':np.nan})\n",
    "cancer['STDs: Time since first diagnosis']=cancer['STDs: Time since first diagnosis'].fillna(cancer['STDs: Time since first diagnosis'].median())\n",
    "\n"
   ]
  },
  {
   "cell_type": "code",
   "execution_count": 95,
   "metadata": {
    "colab": {
     "base_uri": "https://localhost:8080/",
     "height": 36
    },
    "colab_type": "code",
    "id": "0aufaFATYlU7",
    "outputId": "753df7ca-4453-4397-80e4-fc25aba84eb9"
   },
   "outputs": [],
   "source": [
    "# Imputing the missing values from STDs: Time since last diagnosis\n",
    "\n",
    "cancer['STDs: Time since last diagnosis']=cancer['STDs: Time since last diagnosis'].replace({'?':np.nan})\n",
    "cancer['STDs: Time since last diagnosis']=cancer['STDs: Time since last diagnosis'].fillna(cancer['STDs: Time since last diagnosis'].median())\n",
    "\n"
   ]
  },
  {
   "cell_type": "markdown",
   "metadata": {},
   "source": [
    "###  1.8 Imputing null values for categorical variables for get_dummies"
   ]
  },
  {
   "cell_type": "code",
   "execution_count": 107,
   "metadata": {},
   "outputs": [
    {
     "data": {
      "text/html": [
       "<div>\n",
       "<style scoped>\n",
       "    .dataframe tbody tr th:only-of-type {\n",
       "        vertical-align: middle;\n",
       "    }\n",
       "\n",
       "    .dataframe tbody tr th {\n",
       "        vertical-align: top;\n",
       "    }\n",
       "\n",
       "    .dataframe thead th {\n",
       "        text-align: right;\n",
       "    }\n",
       "</style>\n",
       "<table border=\"1\" class=\"dataframe\">\n",
       "  <thead>\n",
       "    <tr style=\"text-align: right;\">\n",
       "      <th></th>\n",
       "      <th>Age</th>\n",
       "      <th>STDs: Number of diagnosis</th>\n",
       "      <th>Dx:Cancer</th>\n",
       "      <th>Dx:CIN</th>\n",
       "      <th>Dx:HPV</th>\n",
       "      <th>Dx</th>\n",
       "      <th>Hinselmann</th>\n",
       "      <th>Schiller</th>\n",
       "      <th>Citology</th>\n",
       "      <th>Biopsy</th>\n",
       "      <th>...</th>\n",
       "      <th>STDs: Time since last diagnosis_2.0</th>\n",
       "      <th>STDs: Time since last diagnosis_21.0</th>\n",
       "      <th>STDs: Time since last diagnosis_22.0</th>\n",
       "      <th>STDs: Time since last diagnosis_3.0</th>\n",
       "      <th>STDs: Time since last diagnosis_4.0</th>\n",
       "      <th>STDs: Time since last diagnosis_5.0</th>\n",
       "      <th>STDs: Time since last diagnosis_6.0</th>\n",
       "      <th>STDs: Time since last diagnosis_7.0</th>\n",
       "      <th>STDs: Time since last diagnosis_8.0</th>\n",
       "      <th>STDs: Time since last diagnosis_9.0</th>\n",
       "    </tr>\n",
       "  </thead>\n",
       "  <tbody>\n",
       "    <tr>\n",
       "      <td>0</td>\n",
       "      <td>18</td>\n",
       "      <td>0</td>\n",
       "      <td>0</td>\n",
       "      <td>0</td>\n",
       "      <td>0</td>\n",
       "      <td>0</td>\n",
       "      <td>0</td>\n",
       "      <td>0</td>\n",
       "      <td>0</td>\n",
       "      <td>0</td>\n",
       "      <td>...</td>\n",
       "      <td>0</td>\n",
       "      <td>0</td>\n",
       "      <td>0</td>\n",
       "      <td>0</td>\n",
       "      <td>0</td>\n",
       "      <td>0</td>\n",
       "      <td>0</td>\n",
       "      <td>0</td>\n",
       "      <td>0</td>\n",
       "      <td>0</td>\n",
       "    </tr>\n",
       "    <tr>\n",
       "      <td>1</td>\n",
       "      <td>15</td>\n",
       "      <td>0</td>\n",
       "      <td>0</td>\n",
       "      <td>0</td>\n",
       "      <td>0</td>\n",
       "      <td>0</td>\n",
       "      <td>0</td>\n",
       "      <td>0</td>\n",
       "      <td>0</td>\n",
       "      <td>0</td>\n",
       "      <td>...</td>\n",
       "      <td>0</td>\n",
       "      <td>0</td>\n",
       "      <td>0</td>\n",
       "      <td>0</td>\n",
       "      <td>0</td>\n",
       "      <td>0</td>\n",
       "      <td>0</td>\n",
       "      <td>0</td>\n",
       "      <td>0</td>\n",
       "      <td>0</td>\n",
       "    </tr>\n",
       "    <tr>\n",
       "      <td>2</td>\n",
       "      <td>34</td>\n",
       "      <td>0</td>\n",
       "      <td>0</td>\n",
       "      <td>0</td>\n",
       "      <td>0</td>\n",
       "      <td>0</td>\n",
       "      <td>0</td>\n",
       "      <td>0</td>\n",
       "      <td>0</td>\n",
       "      <td>0</td>\n",
       "      <td>...</td>\n",
       "      <td>0</td>\n",
       "      <td>0</td>\n",
       "      <td>0</td>\n",
       "      <td>0</td>\n",
       "      <td>0</td>\n",
       "      <td>0</td>\n",
       "      <td>0</td>\n",
       "      <td>0</td>\n",
       "      <td>0</td>\n",
       "      <td>0</td>\n",
       "    </tr>\n",
       "    <tr>\n",
       "      <td>3</td>\n",
       "      <td>52</td>\n",
       "      <td>0</td>\n",
       "      <td>1</td>\n",
       "      <td>0</td>\n",
       "      <td>1</td>\n",
       "      <td>0</td>\n",
       "      <td>0</td>\n",
       "      <td>0</td>\n",
       "      <td>0</td>\n",
       "      <td>0</td>\n",
       "      <td>...</td>\n",
       "      <td>0</td>\n",
       "      <td>0</td>\n",
       "      <td>0</td>\n",
       "      <td>0</td>\n",
       "      <td>0</td>\n",
       "      <td>0</td>\n",
       "      <td>0</td>\n",
       "      <td>0</td>\n",
       "      <td>0</td>\n",
       "      <td>0</td>\n",
       "    </tr>\n",
       "    <tr>\n",
       "      <td>4</td>\n",
       "      <td>46</td>\n",
       "      <td>0</td>\n",
       "      <td>0</td>\n",
       "      <td>0</td>\n",
       "      <td>0</td>\n",
       "      <td>0</td>\n",
       "      <td>0</td>\n",
       "      <td>0</td>\n",
       "      <td>0</td>\n",
       "      <td>0</td>\n",
       "      <td>...</td>\n",
       "      <td>0</td>\n",
       "      <td>0</td>\n",
       "      <td>0</td>\n",
       "      <td>0</td>\n",
       "      <td>0</td>\n",
       "      <td>0</td>\n",
       "      <td>0</td>\n",
       "      <td>0</td>\n",
       "      <td>0</td>\n",
       "      <td>0</td>\n",
       "    </tr>\n",
       "    <tr>\n",
       "      <td>...</td>\n",
       "      <td>...</td>\n",
       "      <td>...</td>\n",
       "      <td>...</td>\n",
       "      <td>...</td>\n",
       "      <td>...</td>\n",
       "      <td>...</td>\n",
       "      <td>...</td>\n",
       "      <td>...</td>\n",
       "      <td>...</td>\n",
       "      <td>...</td>\n",
       "      <td>...</td>\n",
       "      <td>...</td>\n",
       "      <td>...</td>\n",
       "      <td>...</td>\n",
       "      <td>...</td>\n",
       "      <td>...</td>\n",
       "      <td>...</td>\n",
       "      <td>...</td>\n",
       "      <td>...</td>\n",
       "      <td>...</td>\n",
       "      <td>...</td>\n",
       "    </tr>\n",
       "    <tr>\n",
       "      <td>853</td>\n",
       "      <td>34</td>\n",
       "      <td>0</td>\n",
       "      <td>0</td>\n",
       "      <td>0</td>\n",
       "      <td>0</td>\n",
       "      <td>0</td>\n",
       "      <td>0</td>\n",
       "      <td>0</td>\n",
       "      <td>0</td>\n",
       "      <td>0</td>\n",
       "      <td>...</td>\n",
       "      <td>0</td>\n",
       "      <td>0</td>\n",
       "      <td>0</td>\n",
       "      <td>0</td>\n",
       "      <td>0</td>\n",
       "      <td>0</td>\n",
       "      <td>0</td>\n",
       "      <td>0</td>\n",
       "      <td>0</td>\n",
       "      <td>0</td>\n",
       "    </tr>\n",
       "    <tr>\n",
       "      <td>854</td>\n",
       "      <td>32</td>\n",
       "      <td>0</td>\n",
       "      <td>0</td>\n",
       "      <td>0</td>\n",
       "      <td>0</td>\n",
       "      <td>0</td>\n",
       "      <td>0</td>\n",
       "      <td>0</td>\n",
       "      <td>0</td>\n",
       "      <td>0</td>\n",
       "      <td>...</td>\n",
       "      <td>0</td>\n",
       "      <td>0</td>\n",
       "      <td>0</td>\n",
       "      <td>0</td>\n",
       "      <td>0</td>\n",
       "      <td>0</td>\n",
       "      <td>0</td>\n",
       "      <td>0</td>\n",
       "      <td>0</td>\n",
       "      <td>0</td>\n",
       "    </tr>\n",
       "    <tr>\n",
       "      <td>855</td>\n",
       "      <td>25</td>\n",
       "      <td>0</td>\n",
       "      <td>0</td>\n",
       "      <td>0</td>\n",
       "      <td>0</td>\n",
       "      <td>0</td>\n",
       "      <td>0</td>\n",
       "      <td>0</td>\n",
       "      <td>1</td>\n",
       "      <td>0</td>\n",
       "      <td>...</td>\n",
       "      <td>0</td>\n",
       "      <td>0</td>\n",
       "      <td>0</td>\n",
       "      <td>0</td>\n",
       "      <td>0</td>\n",
       "      <td>0</td>\n",
       "      <td>0</td>\n",
       "      <td>0</td>\n",
       "      <td>0</td>\n",
       "      <td>0</td>\n",
       "    </tr>\n",
       "    <tr>\n",
       "      <td>856</td>\n",
       "      <td>33</td>\n",
       "      <td>0</td>\n",
       "      <td>0</td>\n",
       "      <td>0</td>\n",
       "      <td>0</td>\n",
       "      <td>0</td>\n",
       "      <td>0</td>\n",
       "      <td>0</td>\n",
       "      <td>0</td>\n",
       "      <td>0</td>\n",
       "      <td>...</td>\n",
       "      <td>0</td>\n",
       "      <td>0</td>\n",
       "      <td>0</td>\n",
       "      <td>0</td>\n",
       "      <td>0</td>\n",
       "      <td>0</td>\n",
       "      <td>0</td>\n",
       "      <td>0</td>\n",
       "      <td>0</td>\n",
       "      <td>0</td>\n",
       "    </tr>\n",
       "    <tr>\n",
       "      <td>857</td>\n",
       "      <td>29</td>\n",
       "      <td>0</td>\n",
       "      <td>0</td>\n",
       "      <td>0</td>\n",
       "      <td>0</td>\n",
       "      <td>0</td>\n",
       "      <td>0</td>\n",
       "      <td>0</td>\n",
       "      <td>0</td>\n",
       "      <td>0</td>\n",
       "      <td>...</td>\n",
       "      <td>0</td>\n",
       "      <td>0</td>\n",
       "      <td>0</td>\n",
       "      <td>0</td>\n",
       "      <td>0</td>\n",
       "      <td>0</td>\n",
       "      <td>0</td>\n",
       "      <td>0</td>\n",
       "      <td>0</td>\n",
       "      <td>0</td>\n",
       "    </tr>\n",
       "  </tbody>\n",
       "</table>\n",
       "<p>858 rows × 309 columns</p>\n",
       "</div>"
      ],
      "text/plain": [
       "     Age  STDs: Number of diagnosis  Dx:Cancer  Dx:CIN  Dx:HPV  Dx  \\\n",
       "0     18                          0          0       0       0   0   \n",
       "1     15                          0          0       0       0   0   \n",
       "2     34                          0          0       0       0   0   \n",
       "3     52                          0          1       0       1   0   \n",
       "4     46                          0          0       0       0   0   \n",
       "..   ...                        ...        ...     ...     ...  ..   \n",
       "853   34                          0          0       0       0   0   \n",
       "854   32                          0          0       0       0   0   \n",
       "855   25                          0          0       0       0   0   \n",
       "856   33                          0          0       0       0   0   \n",
       "857   29                          0          0       0       0   0   \n",
       "\n",
       "     Hinselmann  Schiller  Citology  Biopsy  ...  \\\n",
       "0             0         0         0       0  ...   \n",
       "1             0         0         0       0  ...   \n",
       "2             0         0         0       0  ...   \n",
       "3             0         0         0       0  ...   \n",
       "4             0         0         0       0  ...   \n",
       "..          ...       ...       ...     ...  ...   \n",
       "853           0         0         0       0  ...   \n",
       "854           0         0         0       0  ...   \n",
       "855           0         0         1       0  ...   \n",
       "856           0         0         0       0  ...   \n",
       "857           0         0         0       0  ...   \n",
       "\n",
       "     STDs: Time since last diagnosis_2.0  \\\n",
       "0                                      0   \n",
       "1                                      0   \n",
       "2                                      0   \n",
       "3                                      0   \n",
       "4                                      0   \n",
       "..                                   ...   \n",
       "853                                    0   \n",
       "854                                    0   \n",
       "855                                    0   \n",
       "856                                    0   \n",
       "857                                    0   \n",
       "\n",
       "     STDs: Time since last diagnosis_21.0  \\\n",
       "0                                       0   \n",
       "1                                       0   \n",
       "2                                       0   \n",
       "3                                       0   \n",
       "4                                       0   \n",
       "..                                    ...   \n",
       "853                                     0   \n",
       "854                                     0   \n",
       "855                                     0   \n",
       "856                                     0   \n",
       "857                                     0   \n",
       "\n",
       "     STDs: Time since last diagnosis_22.0  \\\n",
       "0                                       0   \n",
       "1                                       0   \n",
       "2                                       0   \n",
       "3                                       0   \n",
       "4                                       0   \n",
       "..                                    ...   \n",
       "853                                     0   \n",
       "854                                     0   \n",
       "855                                     0   \n",
       "856                                     0   \n",
       "857                                     0   \n",
       "\n",
       "     STDs: Time since last diagnosis_3.0  STDs: Time since last diagnosis_4.0  \\\n",
       "0                                      0                                    0   \n",
       "1                                      0                                    0   \n",
       "2                                      0                                    0   \n",
       "3                                      0                                    0   \n",
       "4                                      0                                    0   \n",
       "..                                   ...                                  ...   \n",
       "853                                    0                                    0   \n",
       "854                                    0                                    0   \n",
       "855                                    0                                    0   \n",
       "856                                    0                                    0   \n",
       "857                                    0                                    0   \n",
       "\n",
       "     STDs: Time since last diagnosis_5.0  STDs: Time since last diagnosis_6.0  \\\n",
       "0                                      0                                    0   \n",
       "1                                      0                                    0   \n",
       "2                                      0                                    0   \n",
       "3                                      0                                    0   \n",
       "4                                      0                                    0   \n",
       "..                                   ...                                  ...   \n",
       "853                                    0                                    0   \n",
       "854                                    0                                    0   \n",
       "855                                    0                                    0   \n",
       "856                                    0                                    0   \n",
       "857                                    0                                    0   \n",
       "\n",
       "     STDs: Time since last diagnosis_7.0  STDs: Time since last diagnosis_8.0  \\\n",
       "0                                      0                                    0   \n",
       "1                                      0                                    0   \n",
       "2                                      0                                    0   \n",
       "3                                      0                                    0   \n",
       "4                                      0                                    0   \n",
       "..                                   ...                                  ...   \n",
       "853                                    0                                    0   \n",
       "854                                    0                                    0   \n",
       "855                                    0                                    0   \n",
       "856                                    0                                    0   \n",
       "857                                    0                                    0   \n",
       "\n",
       "     STDs: Time since last diagnosis_9.0  \n",
       "0                                      0  \n",
       "1                                      0  \n",
       "2                                      0  \n",
       "3                                      0  \n",
       "4                                      0  \n",
       "..                                   ...  \n",
       "853                                    0  \n",
       "854                                    0  \n",
       "855                                    0  \n",
       "856                                    0  \n",
       "857                                    0  \n",
       "\n",
       "[858 rows x 309 columns]"
      ]
     },
     "execution_count": 107,
     "metadata": {},
     "output_type": "execute_result"
    }
   ],
   "source": [
    "a=pd.get_dummies(data=cancer)\n",
    "a"
   ]
  },
  {
   "cell_type": "markdown",
   "metadata": {},
   "source": [
    "### Here we compute Null values from the get_dummies . "
   ]
  },
  {
   "cell_type": "markdown",
   "metadata": {
    "colab_type": "text",
    "id": "tet9wPZa2sZ4"
   },
   "source": [
    "### 1.10 Data Visualization for checking any categorical variables or not using count plot?"
   ]
  },
  {
   "cell_type": "code",
   "execution_count": 104,
   "metadata": {},
   "outputs": [
    {
     "data": {
      "image/png": "[encoded data removed]",
      "text/plain": [
       "<Figure size 2160x648 with 1 Axes>"
      ]
     },
     "metadata": {
      "needs_background": "light"
     },
     "output_type": "display_data"
    }
   ],
   "source": [
    "cat_features=[i for i in cancer.columns if cancer.dtypes[i]=='object']\n",
    "plt.subplots(figsize=(30,9))\n",
    "sns.countplot(cat_features)\n",
    "plt.title('Categorical Columns using Count plot')\n",
    "plt.show()"
   ]
  },
  {
   "cell_type": "markdown",
   "metadata": {},
   "source": [
    "### 1.11 splitting the dataset into dependent and independent variables?"
   ]
  },
  {
   "cell_type": "code",
   "execution_count": null,
   "metadata": {},
   "outputs": [],
   "source": [
    "x=cancer.drop(['Dx:Cancer'],axis=1)\n",
    "y=cancer['Dx:Cancer']"
   ]
  },
  {
   "cell_type": "markdown",
   "metadata": {},
   "source": [
    "### 1.12 splitting the dataset into  training and test set?"
   ]
  },
  {
   "cell_type": "code",
   "execution_count": null,
   "metadata": {},
   "outputs": [],
   "source": [
    "from sklearn.model_selection import train_test_split \n",
    "x_train,x_test,y_train,y_test=train_test_split(x,y,train_size=0.70,random_state=0)"
   ]
  },
  {
   "cell_type": "markdown",
   "metadata": {},
   "source": [
    "# The End"
   ]
  }
 ],
 "metadata": {
  "colab": {
   "collapsed_sections": [],
   "include_colab_link": true,
   "name": "CevicalCancer.ipynb",
   "provenance": [],
   "version": "0.3.2"
  },
  "kernelspec": {
   "display_name": "Python 3",
   "language": "python",
   "name": "python3"
  },
  "language_info": {
   "codemirror_mode": {
    "name": "ipython",
    "version": 3
   },
   "file_extension": ".py",
   "mimetype": "text/x-python",
   "name": "python",
   "nbconvert_exporter": "python",
   "pygments_lexer": "ipython3",
   "version": "3.7.4"
  }
 },
 "nbformat": 4,
 "nbformat_minor": 4
}
